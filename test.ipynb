{
 "cells": [
  {
   "cell_type": "code",
   "execution_count": 1,
   "metadata": {},
   "outputs": [],
   "source": [
    "import datessc\n",
    "import programs\n",
    "import class_infos\n",
    "import gene_maker"
   ]
  },
  {
   "cell_type": "code",
   "execution_count": 2,
   "metadata": {},
   "outputs": [
    {
     "name": "stdout",
     "output_type": "stream",
     "text": [
      "Biotechnology (ECTS: 240, Duration: 8 semesters)\n"
     ]
    }
   ],
   "source": [
    "biotechnology_subjects = {\n",
    "    1: {\"Bioprocessing\": {\"hours\": 40, \"ects\": 6},\n",
    "        \"Cell Biology\": {\"hours\": 30, \"ects\": 5},\n",
    "        \"Genetics\": {\"hours\": 30, \"ects\": 5},\n",
    "        \"Organic Chemistry\": {\"hours\": 30, \"ects\": 4}},\n",
    "    2: {\"Genetic Engineering\": {\"hours\": 40, \"ects\": 6},\n",
    "        \"Bioinformatics\": {\"hours\": 30, \"ects\": 5},\n",
    "        \"Metabolism of Proteins\": {\"hours\": 30, \"ects\": 5},\n",
    "        \"Calculus\": {\"hours\": 30, \"ects\": 4}},\n",
    "    3: {\"Immunology\": {\"hours\": 40, \"ects\": 6},\n",
    "        \"Molecular Biology\": {\"hours\": 30, \"ects\": 5},\n",
    "        \"Protein Engineering\": {\"hours\": 30, \"ects\": 5},\n",
    "        \"Linear Algebra\": {\"hours\": 30, \"ects\": 4}},\n",
    "    4: {\"Probability and Statistics\": {\"hours\": 30, \"ects\": 4},\n",
    "        \"Data Structures\": {\"hours\": 30, \"ects\": 4},\n",
    "        \"Physical Chemistry\": {\"hours\": 30, \"ects\": 4},\n",
    "        \"Algorithms\": {\"hours\": 30, \"ects\": 4}}\n",
    "}\n",
    "\n",
    "biotechnology_program = programs.Program(\"Biotechnology\", 240, 8, biotechnology_subjects)\n",
    "print(biotechnology_program)"
   ]
  },
  {
   "cell_type": "code",
   "execution_count": 3,
   "metadata": {},
   "outputs": [],
   "source": [
    "length_of_semester = 120\n",
    "daily_class_hours_limit = 8\n",
    "same_class_daily_hours_limit = 2\n",
    "\n",
    "# Weekends (Saturday: 5, Sunday: 6) are absolutely avoided, Wednesdays (2) are preferably avoided\n",
    "absolutely_avoid_days = [5, 6]\n",
    "preferably_avoid_days = [2]\n",
    "\n",
    "# Avoid early morning, lunch break, and late evening\n",
    "absolutely_avoid_hours = [(0, 8), (18,24)]\n",
    "preferably_avoid_hours = [(12, 13)]\n",
    "\n",
    "biotech_genes = gene_maker.create_genes((length_of_semester, 1), biotechnology_subjects, absolutely_avoid_days, \n",
    "                              daily_class_hours_limit, same_class_daily_hours_limit, class_infos.faculties, \n",
    "                              absolutely_avoid_hours, preferably_avoid_hours)\n"
   ]
  },
  {
   "cell_type": "code",
   "execution_count": 4,
   "metadata": {},
   "outputs": [
    {
     "name": "stdout",
     "output_type": "stream",
     "text": [
      "Query date range: 1 Jan 2023, sunday to 11 Jan 2023, wednesday\n",
      "Bioprocessing (Semester 1) is scheduled on 1 Jan 2023, sunday (0 days after query start) at hour 9 in room Bio Lab 1.\n",
      "Bioprocessing (Semester 1) is scheduled on 4 Jan 2023, wednesday (3 days after query start) at hour 13 in room Large Hall 1.05.\n",
      "Cell Biology (Semester 1) is scheduled on 1 Jan 2023, sunday (0 days after query start) at hour 9 in room Bio Hall 1.\n",
      "Cell Biology (Semester 1) is scheduled on 10 Jan 2023, tuesday (9 days after query start) at hour 15 in room Bio Hall 3.\n",
      "Cell Biology (Semester 1) is scheduled on 1 Jan 2023, sunday (0 days after query start) at hour 10 in room Bio Hall 1.\n",
      "Cell Biology (Semester 1) is scheduled on 2 Jan 2023, monday (1 days after query start) at hour 17 in room Bio Hall 1.\n",
      "Genetics (Semester 1) is scheduled on 4 Jan 2023, wednesday (3 days after query start) at hour 9 in room Bio Hall 2.\n",
      "Genetics (Semester 1) is scheduled on 1 Jan 2023, sunday (0 days after query start) at hour 9 in room Bio Hall 1.\n",
      "Organic Chemistry (Semester 1) is scheduled on 8 Jan 2023, sunday (7 days after query start) at hour 12 in room Chem Hall 3.\n",
      "Organic Chemistry (Semester 1) is scheduled on 1 Jan 2023, sunday (0 days after query start) at hour 16 in room Chem Hall 3.\n"
     ]
    }
   ],
   "source": [
    "length_of_semester = 120\n",
    "starting_day = \"Jan 1\"\n",
    "starting_year = 2023\n",
    "starting_weekday = \"sunday\"\n",
    "\n",
    "dates, _ = datessc.generate_dates(length_of_semester, starting_day, starting_year, starting_weekday)\n",
    "\n",
    "start_day = 0\n",
    "end_day = 10  # The first week (7 days)\n",
    "\n",
    "a = gene_maker.print_genes(biotech_genes, start_day, end_day, current_semester=1, dates=dates)\n",
    "print(a)\n"
   ]
  },
  {
   "cell_type": "code",
   "execution_count": null,
   "metadata": {},
   "outputs": [],
   "source": []
  },
  {
   "cell_type": "code",
   "execution_count": null,
   "metadata": {},
   "outputs": [],
   "source": []
  }
 ],
 "metadata": {
  "kernelspec": {
   "display_name": "Python 3",
   "language": "python",
   "name": "python3"
  },
  "language_info": {
   "codemirror_mode": {
    "name": "ipython",
    "version": 3
   },
   "file_extension": ".py",
   "mimetype": "text/x-python",
   "name": "python",
   "nbconvert_exporter": "python",
   "pygments_lexer": "ipython3",
   "version": "3.10.6"
  },
  "orig_nbformat": 4
 },
 "nbformat": 4,
 "nbformat_minor": 2
}
